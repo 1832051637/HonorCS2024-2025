{
 "cells": [
  {
   "cell_type": "markdown",
   "id": "af345491",
   "metadata": {
    "papermill": {
     "duration": 0.004766,
     "end_time": "2025-06-18T06:27:55.908926",
     "exception": false,
     "start_time": "2025-06-18T06:27:55.904160",
     "status": "completed"
    },
    "tags": []
   },
   "source": [
    "**项目简介**\n",
    "\n",
    "本项目基于 TensorFlow 框架，在 Kaggle 平台实现一个简单的邮件分类器，用于判断短信是否为垃圾邮件（Spam）或正常邮件（Ham）。"
   ]
  },
  {
   "cell_type": "code",
   "execution_count": 1,
   "id": "443599a7",
   "metadata": {
    "execution": {
     "iopub.execute_input": "2025-06-18T06:27:55.917192Z",
     "iopub.status.busy": "2025-06-18T06:27:55.916828Z",
     "iopub.status.idle": "2025-06-18T06:28:16.632708Z",
     "shell.execute_reply": "2025-06-18T06:28:16.631801Z"
    },
    "papermill": {
     "duration": 20.722469,
     "end_time": "2025-06-18T06:28:16.634824",
     "exception": false,
     "start_time": "2025-06-18T06:27:55.912355",
     "status": "completed"
    },
    "tags": []
   },
   "outputs": [
    {
     "name": "stderr",
     "output_type": "stream",
     "text": [
      "2025-06-18 06:27:59.670964: E external/local_xla/xla/stream_executor/cuda/cuda_fft.cc:477] Unable to register cuFFT factory: Attempting to register factory for plugin cuFFT when one has already been registered\n",
      "WARNING: All log messages before absl::InitializeLog() is called are written to STDERR\n",
      "E0000 00:00:1750228079.922005      13 cuda_dnn.cc:8310] Unable to register cuDNN factory: Attempting to register factory for plugin cuDNN when one has already been registered\n",
      "E0000 00:00:1750228079.996440      13 cuda_blas.cc:1418] Unable to register cuBLAS factory: Attempting to register factory for plugin cuBLAS when one has already been registered\n"
     ]
    }
   ],
   "source": [
    "# 导入必要的库\n",
    "import pandas as pd\n",
    "import numpy as np\n",
    "import tensorflow as tf\n",
    "import matplotlib.pyplot as plt\n",
    "import re\n",
    "\n",
    "# sklearn 用于划分训练集和测试集\n",
    "from sklearn.model_selection import train_test_split\n",
    "\n",
    "# Tokenizer 用于将文本分词，pad_sequences 用于统一长度\n",
    "from tensorflow.keras.preprocessing.text import Tokenizer\n",
    "from tensorflow.keras.preprocessing.sequence import pad_sequences"
   ]
  },
  {
   "cell_type": "markdown",
   "id": "398736d4",
   "metadata": {
    "papermill": {
     "duration": 0.003657,
     "end_time": "2025-06-18T06:28:16.642503",
     "exception": false,
     "start_time": "2025-06-18T06:28:16.638846",
     "status": "completed"
    },
    "tags": []
   },
   "source": [
    "**读取数据**\n",
    "\n",
    "加载数据：读取 spam.csv 并保留 'v1'（标签）和 'v2'（文本）。\n",
    "\n",
    "标签处理：将 ham 映射为 0，spam 映射为 1。"
   ]
  },
  {
   "cell_type": "code",
   "execution_count": 2,
   "id": "a45e7373",
   "metadata": {
    "execution": {
     "iopub.execute_input": "2025-06-18T06:28:16.651880Z",
     "iopub.status.busy": "2025-06-18T06:28:16.651154Z",
     "iopub.status.idle": "2025-06-18T06:28:16.700405Z",
     "shell.execute_reply": "2025-06-18T06:28:16.699511Z"
    },
    "papermill": {
     "duration": 0.056018,
     "end_time": "2025-06-18T06:28:16.702249",
     "exception": false,
     "start_time": "2025-06-18T06:28:16.646231",
     "status": "completed"
    },
    "tags": []
   },
   "outputs": [],
   "source": [
    "# 从 Kaggle 数据集中读取 spam.csv 文件（路径可能根据数据集不同略有调整）\n",
    "df = pd.read_csv(\"/kaggle/input/sms-spam-collection-dataset/spam.csv\", encoding='latin-1')[['v1', 'v2']]\n",
    "df.columns = ['label', 'message']  # 重命名列\n",
    "\n",
    "# 标签转换：ham -> 0, spam -> 1\n",
    "df['label'] = df['label'].map({'ham': 0, 'spam': 1})"
   ]
  },
  {
   "cell_type": "markdown",
   "id": "29b289df",
   "metadata": {
    "papermill": {
     "duration": 0.003193,
     "end_time": "2025-06-18T06:28:16.709359",
     "exception": false,
     "start_time": "2025-06-18T06:28:16.706166",
     "status": "completed"
    },
    "tags": []
   },
   "source": [
    "**预处理文本**\n",
    "\n",
    "文本清洗：小写化，移除非字母字符。\n",
    "\n",
    "分词编码：使用 Tokenizer 将文本转化为数字序列。\n",
    "\n",
    "序列填充：将所有序列填充或截断为等长（如100）。\n",
    "\n",
    "划分训练集和测试集：使用 sklearn 的 train_test_split。"
   ]
  },
  {
   "cell_type": "code",
   "execution_count": 3,
   "id": "6964eef1",
   "metadata": {
    "execution": {
     "iopub.execute_input": "2025-06-18T06:28:16.718401Z",
     "iopub.status.busy": "2025-06-18T06:28:16.717421Z",
     "iopub.status.idle": "2025-06-18T06:28:16.946247Z",
     "shell.execute_reply": "2025-06-18T06:28:16.945322Z"
    },
    "papermill": {
     "duration": 0.235139,
     "end_time": "2025-06-18T06:28:16.947961",
     "exception": false,
     "start_time": "2025-06-18T06:28:16.712822",
     "status": "completed"
    },
    "tags": []
   },
   "outputs": [],
   "source": [
    "# 文本清洗：小写化、去除非字母字符\n",
    "df['message'] = df['message'].apply(lambda x: re.sub(r'[^a-zA-Z]', ' ', x.lower()))\n",
    "\n",
    "# 创建分词器，最多保留5000个词，未知词用<OOV>表示\n",
    "tokenizer = Tokenizer(num_words=5000, oov_token=\"<OOV>\")\n",
    "tokenizer.fit_on_texts(df['message'])\n",
    "\n",
    "# 将文本转为整数序列\n",
    "sequences = tokenizer.texts_to_sequences(df['message'])\n",
    "\n",
    "# 将所有序列统一为100词长度（多余截断，不足补零）\n",
    "padded = pad_sequences(sequences, padding='post', maxlen=100)\n",
    "\n",
    "# 标签转为 NumPy 数组\n",
    "X = padded\n",
    "y = df['label'].values\n",
    "\n",
    "# 划分训练集和测试集\n",
    "X_train, X_test, y_train, y_test = train_test_split(X, y, test_size=0.2, random_state=42)"
   ]
  },
  {
   "cell_type": "markdown",
   "id": "aa3ad8ab",
   "metadata": {
    "papermill": {
     "duration": 0.002984,
     "end_time": "2025-06-18T06:28:16.954548",
     "exception": false,
     "start_time": "2025-06-18T06:28:16.951564",
     "status": "completed"
    },
    "tags": []
   },
   "source": [
    "**构建模型**\n",
    "\n",
    "模型结构：\n",
    "Embedding 层：将词汇表映射为稠密向量\n",
    "\n",
    "GlobalAveragePooling1D：取平均值\n",
    "\n",
    "Dense 层：中间隐藏层（24个神经元）\n",
    "\n",
    "Dense 层：输出层（1个神经元，Sigmoid激活）\n",
    "\n",
    "编译模型：损失函数为 binary_crossentropy，优化器使用 adam。"
   ]
  },
  {
   "cell_type": "code",
   "execution_count": 4,
   "id": "c1a77393",
   "metadata": {
    "execution": {
     "iopub.execute_input": "2025-06-18T06:28:16.962448Z",
     "iopub.status.busy": "2025-06-18T06:28:16.962043Z",
     "iopub.status.idle": "2025-06-18T06:28:17.089811Z",
     "shell.execute_reply": "2025-06-18T06:28:17.088968Z"
    },
    "papermill": {
     "duration": 0.133629,
     "end_time": "2025-06-18T06:28:17.091246",
     "exception": false,
     "start_time": "2025-06-18T06:28:16.957617",
     "status": "completed"
    },
    "tags": []
   },
   "outputs": [
    {
     "name": "stderr",
     "output_type": "stream",
     "text": [
      "2025-06-18 06:28:16.973419: E external/local_xla/xla/stream_executor/cuda/cuda_driver.cc:152] failed call to cuInit: INTERNAL: CUDA error: Failed call to cuInit: UNKNOWN ERROR (303)\n"
     ]
    },
    {
     "data": {
      "text/html": [
       "<pre style=\"white-space:pre;overflow-x:auto;line-height:normal;font-family:Menlo,'DejaVu Sans Mono',consolas,'Courier New',monospace\"><span style=\"font-weight: bold\">Model: \"sequential\"</span>\n",
       "</pre>\n"
      ],
      "text/plain": [
       "\u001b[1mModel: \"sequential\"\u001b[0m\n"
      ]
     },
     "metadata": {},
     "output_type": "display_data"
    },
    {
     "data": {
      "text/html": [
       "<pre style=\"white-space:pre;overflow-x:auto;line-height:normal;font-family:Menlo,'DejaVu Sans Mono',consolas,'Courier New',monospace\">┏━━━━━━━━━━━━━━━━━━━━━━━━━━━━━━━━━━━━━━┳━━━━━━━━━━━━━━━━━━━━━━━━━━━━━┳━━━━━━━━━━━━━━━━━┓\n",
       "┃<span style=\"font-weight: bold\"> Layer (type)                         </span>┃<span style=\"font-weight: bold\"> Output Shape                </span>┃<span style=\"font-weight: bold\">         Param # </span>┃\n",
       "┡━━━━━━━━━━━━━━━━━━━━━━━━━━━━━━━━━━━━━━╇━━━━━━━━━━━━━━━━━━━━━━━━━━━━━╇━━━━━━━━━━━━━━━━━┩\n",
       "│ embedding (<span style=\"color: #0087ff; text-decoration-color: #0087ff\">Embedding</span>)                │ (<span style=\"color: #00d7ff; text-decoration-color: #00d7ff\">None</span>, <span style=\"color: #00af00; text-decoration-color: #00af00\">100</span>, <span style=\"color: #00af00; text-decoration-color: #00af00\">16</span>)             │          <span style=\"color: #00af00; text-decoration-color: #00af00\">80,000</span> │\n",
       "├──────────────────────────────────────┼─────────────────────────────┼─────────────────┤\n",
       "│ global_average_pooling1d             │ (<span style=\"color: #00d7ff; text-decoration-color: #00d7ff\">None</span>, <span style=\"color: #00af00; text-decoration-color: #00af00\">16</span>)                  │               <span style=\"color: #00af00; text-decoration-color: #00af00\">0</span> │\n",
       "│ (<span style=\"color: #0087ff; text-decoration-color: #0087ff\">GlobalAveragePooling1D</span>)             │                             │                 │\n",
       "├──────────────────────────────────────┼─────────────────────────────┼─────────────────┤\n",
       "│ dense (<span style=\"color: #0087ff; text-decoration-color: #0087ff\">Dense</span>)                        │ (<span style=\"color: #00d7ff; text-decoration-color: #00d7ff\">None</span>, <span style=\"color: #00af00; text-decoration-color: #00af00\">24</span>)                  │             <span style=\"color: #00af00; text-decoration-color: #00af00\">408</span> │\n",
       "├──────────────────────────────────────┼─────────────────────────────┼─────────────────┤\n",
       "│ dense_1 (<span style=\"color: #0087ff; text-decoration-color: #0087ff\">Dense</span>)                      │ (<span style=\"color: #00d7ff; text-decoration-color: #00d7ff\">None</span>, <span style=\"color: #00af00; text-decoration-color: #00af00\">1</span>)                   │              <span style=\"color: #00af00; text-decoration-color: #00af00\">25</span> │\n",
       "└──────────────────────────────────────┴─────────────────────────────┴─────────────────┘\n",
       "</pre>\n"
      ],
      "text/plain": [
       "┏━━━━━━━━━━━━━━━━━━━━━━━━━━━━━━━━━━━━━━┳━━━━━━━━━━━━━━━━━━━━━━━━━━━━━┳━━━━━━━━━━━━━━━━━┓\n",
       "┃\u001b[1m \u001b[0m\u001b[1mLayer (type)                        \u001b[0m\u001b[1m \u001b[0m┃\u001b[1m \u001b[0m\u001b[1mOutput Shape               \u001b[0m\u001b[1m \u001b[0m┃\u001b[1m \u001b[0m\u001b[1m        Param #\u001b[0m\u001b[1m \u001b[0m┃\n",
       "┡━━━━━━━━━━━━━━━━━━━━━━━━━━━━━━━━━━━━━━╇━━━━━━━━━━━━━━━━━━━━━━━━━━━━━╇━━━━━━━━━━━━━━━━━┩\n",
       "│ embedding (\u001b[38;5;33mEmbedding\u001b[0m)                │ (\u001b[38;5;45mNone\u001b[0m, \u001b[38;5;34m100\u001b[0m, \u001b[38;5;34m16\u001b[0m)             │          \u001b[38;5;34m80,000\u001b[0m │\n",
       "├──────────────────────────────────────┼─────────────────────────────┼─────────────────┤\n",
       "│ global_average_pooling1d             │ (\u001b[38;5;45mNone\u001b[0m, \u001b[38;5;34m16\u001b[0m)                  │               \u001b[38;5;34m0\u001b[0m │\n",
       "│ (\u001b[38;5;33mGlobalAveragePooling1D\u001b[0m)             │                             │                 │\n",
       "├──────────────────────────────────────┼─────────────────────────────┼─────────────────┤\n",
       "│ dense (\u001b[38;5;33mDense\u001b[0m)                        │ (\u001b[38;5;45mNone\u001b[0m, \u001b[38;5;34m24\u001b[0m)                  │             \u001b[38;5;34m408\u001b[0m │\n",
       "├──────────────────────────────────────┼─────────────────────────────┼─────────────────┤\n",
       "│ dense_1 (\u001b[38;5;33mDense\u001b[0m)                      │ (\u001b[38;5;45mNone\u001b[0m, \u001b[38;5;34m1\u001b[0m)                   │              \u001b[38;5;34m25\u001b[0m │\n",
       "└──────────────────────────────────────┴─────────────────────────────┴─────────────────┘\n"
      ]
     },
     "metadata": {},
     "output_type": "display_data"
    },
    {
     "data": {
      "text/html": [
       "<pre style=\"white-space:pre;overflow-x:auto;line-height:normal;font-family:Menlo,'DejaVu Sans Mono',consolas,'Courier New',monospace\"><span style=\"font-weight: bold\"> Total params: </span><span style=\"color: #00af00; text-decoration-color: #00af00\">80,433</span> (314.19 KB)\n",
       "</pre>\n"
      ],
      "text/plain": [
       "\u001b[1m Total params: \u001b[0m\u001b[38;5;34m80,433\u001b[0m (314.19 KB)\n"
      ]
     },
     "metadata": {},
     "output_type": "display_data"
    },
    {
     "data": {
      "text/html": [
       "<pre style=\"white-space:pre;overflow-x:auto;line-height:normal;font-family:Menlo,'DejaVu Sans Mono',consolas,'Courier New',monospace\"><span style=\"font-weight: bold\"> Trainable params: </span><span style=\"color: #00af00; text-decoration-color: #00af00\">80,433</span> (314.19 KB)\n",
       "</pre>\n"
      ],
      "text/plain": [
       "\u001b[1m Trainable params: \u001b[0m\u001b[38;5;34m80,433\u001b[0m (314.19 KB)\n"
      ]
     },
     "metadata": {},
     "output_type": "display_data"
    },
    {
     "data": {
      "text/html": [
       "<pre style=\"white-space:pre;overflow-x:auto;line-height:normal;font-family:Menlo,'DejaVu Sans Mono',consolas,'Courier New',monospace\"><span style=\"font-weight: bold\"> Non-trainable params: </span><span style=\"color: #00af00; text-decoration-color: #00af00\">0</span> (0.00 B)\n",
       "</pre>\n"
      ],
      "text/plain": [
       "\u001b[1m Non-trainable params: \u001b[0m\u001b[38;5;34m0\u001b[0m (0.00 B)\n"
      ]
     },
     "metadata": {},
     "output_type": "display_data"
    }
   ],
   "source": [
    "model = tf.keras.Sequential([\n",
    "    tf.keras.layers.Embedding(5000, 16),  # 词嵌入层：将词ID转为16维向量\n",
    "    tf.keras.layers.GlobalAveragePooling1D(),  # 平均池化：将词向量合并为文本向量\n",
    "    tf.keras.layers.Dense(24, activation='relu'),  # 全连接隐藏层，24个神经元\n",
    "    tf.keras.layers.Dense(1, activation='sigmoid')  # 输出层，二分类概率输出\n",
    "])\n",
    "\n",
    "# 编译模型：使用交叉熵损失函数和Adam优化器\n",
    "model.compile(loss='binary_crossentropy', optimizer='adam', metrics=['accuracy'])\n",
    "\n",
    "# 构建模型结构（让summary显示参数信息）\n",
    "model.build(input_shape=(None, 100))\n",
    "model.summary()"
   ]
  },
  {
   "cell_type": "markdown",
   "id": "f91923e5",
   "metadata": {
    "papermill": {
     "duration": 0.003452,
     "end_time": "2025-06-18T06:28:17.098773",
     "exception": false,
     "start_time": "2025-06-18T06:28:17.095321",
     "status": "completed"
    },
    "tags": []
   },
   "source": [
    "**训练模型**\n",
    "\n",
    "模型训练：训练 10 个 epoch，验证集为测试集。\n",
    "\n",
    "评估模型：输出准确率与损失值。"
   ]
  },
  {
   "cell_type": "code",
   "execution_count": 5,
   "id": "2595fc88",
   "metadata": {
    "execution": {
     "iopub.execute_input": "2025-06-18T06:28:17.108002Z",
     "iopub.status.busy": "2025-06-18T06:28:17.107255Z",
     "iopub.status.idle": "2025-06-18T06:28:25.685673Z",
     "shell.execute_reply": "2025-06-18T06:28:25.684707Z"
    },
    "papermill": {
     "duration": 8.585297,
     "end_time": "2025-06-18T06:28:25.687705",
     "exception": false,
     "start_time": "2025-06-18T06:28:17.102408",
     "status": "completed"
    },
    "tags": []
   },
   "outputs": [
    {
     "name": "stdout",
     "output_type": "stream",
     "text": [
      "Epoch 1/10\n",
      "\u001b[1m140/140\u001b[0m \u001b[32m━━━━━━━━━━━━━━━━━━━━\u001b[0m\u001b[37m\u001b[0m \u001b[1m3s\u001b[0m 8ms/step - accuracy: 0.8612 - loss: 0.4395 - val_accuracy: 0.8655 - val_loss: 0.3738\n",
      "Epoch 2/10\n",
      "\u001b[1m140/140\u001b[0m \u001b[32m━━━━━━━━━━━━━━━━━━━━\u001b[0m\u001b[37m\u001b[0m \u001b[1m1s\u001b[0m 4ms/step - accuracy: 0.8626 - loss: 0.3751 - val_accuracy: 0.8655 - val_loss: 0.3662\n",
      "Epoch 3/10\n",
      "\u001b[1m140/140\u001b[0m \u001b[32m━━━━━━━━━━━━━━━━━━━━\u001b[0m\u001b[37m\u001b[0m \u001b[1m1s\u001b[0m 4ms/step - accuracy: 0.8691 - loss: 0.3496 - val_accuracy: 0.8655 - val_loss: 0.3418\n",
      "Epoch 4/10\n",
      "\u001b[1m140/140\u001b[0m \u001b[32m━━━━━━━━━━━━━━━━━━━━\u001b[0m\u001b[37m\u001b[0m \u001b[1m1s\u001b[0m 4ms/step - accuracy: 0.8740 - loss: 0.3101 - val_accuracy: 0.8655 - val_loss: 0.2853\n",
      "Epoch 5/10\n",
      "\u001b[1m140/140\u001b[0m \u001b[32m━━━━━━━━━━━━━━━━━━━━\u001b[0m\u001b[37m\u001b[0m \u001b[1m1s\u001b[0m 4ms/step - accuracy: 0.8811 - loss: 0.2417 - val_accuracy: 0.9291 - val_loss: 0.2048\n",
      "Epoch 6/10\n",
      "\u001b[1m140/140\u001b[0m \u001b[32m━━━━━━━━━━━━━━━━━━━━\u001b[0m\u001b[37m\u001b[0m \u001b[1m1s\u001b[0m 4ms/step - accuracy: 0.9490 - loss: 0.1668 - val_accuracy: 0.9525 - val_loss: 0.1405\n",
      "Epoch 7/10\n",
      "\u001b[1m140/140\u001b[0m \u001b[32m━━━━━━━━━━━━━━━━━━━━\u001b[0m\u001b[37m\u001b[0m \u001b[1m1s\u001b[0m 4ms/step - accuracy: 0.9709 - loss: 0.1064 - val_accuracy: 0.9713 - val_loss: 0.1046\n",
      "Epoch 8/10\n",
      "\u001b[1m140/140\u001b[0m \u001b[32m━━━━━━━━━━━━━━━━━━━━\u001b[0m\u001b[37m\u001b[0m \u001b[1m1s\u001b[0m 4ms/step - accuracy: 0.9735 - loss: 0.0836 - val_accuracy: 0.9758 - val_loss: 0.0899\n",
      "Epoch 9/10\n",
      "\u001b[1m140/140\u001b[0m \u001b[32m━━━━━━━━━━━━━━━━━━━━\u001b[0m\u001b[37m\u001b[0m \u001b[1m1s\u001b[0m 4ms/step - accuracy: 0.9841 - loss: 0.0621 - val_accuracy: 0.9677 - val_loss: 0.0967\n",
      "Epoch 10/10\n",
      "\u001b[1m140/140\u001b[0m \u001b[32m━━━━━━━━━━━━━━━━━━━━\u001b[0m\u001b[37m\u001b[0m \u001b[1m1s\u001b[0m 4ms/step - accuracy: 0.9820 - loss: 0.0557 - val_accuracy: 0.9812 - val_loss: 0.0794\n"
     ]
    }
   ],
   "source": [
    "history = model.fit(X_train, y_train, epochs=10, validation_data=(X_test, y_test), batch_size=32)"
   ]
  },
  {
   "cell_type": "markdown",
   "id": "ed90e801",
   "metadata": {
    "papermill": {
     "duration": 0.009182,
     "end_time": "2025-06-18T06:28:25.707071",
     "exception": false,
     "start_time": "2025-06-18T06:28:25.697889",
     "status": "completed"
    },
    "tags": []
   },
   "source": [
    "**可视化准确率**\n",
    "\n",
    "可视化训练过程：绘制 accuracy 随 epoch 的变化曲线。"
   ]
  },
  {
   "cell_type": "code",
   "execution_count": 6,
   "id": "b43d6c44",
   "metadata": {
    "execution": {
     "iopub.execute_input": "2025-06-18T06:28:25.728452Z",
     "iopub.status.busy": "2025-06-18T06:28:25.728051Z",
     "iopub.status.idle": "2025-06-18T06:28:26.012118Z",
     "shell.execute_reply": "2025-06-18T06:28:26.011110Z"
    },
    "papermill": {
     "duration": 0.297446,
     "end_time": "2025-06-18T06:28:26.013880",
     "exception": false,
     "start_time": "2025-06-18T06:28:25.716434",
     "status": "completed"
    },
    "tags": []
   },
   "outputs": [
    {
     "data": {
      "image/png": "[encoded data removed]",
      "text/plain": [
       "<Figure size 640x480 with 1 Axes>"
      ]
     },
     "metadata": {},
     "output_type": "display_data"
    }
   ],
   "source": [
    "# 绘制训练和验证准确率变化图\n",
    "plt.plot(history.history['accuracy'], label='Train Accuracy')\n",
    "plt.plot(history.history['val_accuracy'], label='Validation Accuracy')\n",
    "plt.title(\"Accuracy over Epochs\")\n",
    "plt.xlabel(\"Epoch\")\n",
    "plt.ylabel(\"Accuracy\")\n",
    "plt.legend()\n",
    "plt.show()"
   ]
  },
  {
   "cell_type": "markdown",
   "id": "af43838e",
   "metadata": {
    "papermill": {
     "duration": 0.010182,
     "end_time": "2025-06-18T06:28:26.034049",
     "exception": false,
     "start_time": "2025-06-18T06:28:26.023867",
     "status": "completed"
    },
    "tags": []
   },
   "source": [
    "**保存模型**"
   ]
  },
  {
   "cell_type": "code",
   "execution_count": 7,
   "id": "85de6cdc",
   "metadata": {
    "execution": {
     "iopub.execute_input": "2025-06-18T06:28:26.055160Z",
     "iopub.status.busy": "2025-06-18T06:28:26.054800Z",
     "iopub.status.idle": "2025-06-18T06:28:26.095430Z",
     "shell.execute_reply": "2025-06-18T06:28:26.094445Z"
    },
    "papermill": {
     "duration": 0.053437,
     "end_time": "2025-06-18T06:28:26.097204",
     "exception": false,
     "start_time": "2025-06-18T06:28:26.043767",
     "status": "completed"
    },
    "tags": []
   },
   "outputs": [],
   "source": [
    "model.save('/kaggle/working/spam_classifier.h5')\n",
    "# 将模型保存为 .h5 文件，方便下载和部署"
   ]
  },
  {
   "cell_type": "markdown",
   "id": "e10c8f1b",
   "metadata": {
    "papermill": {
     "duration": 0.009205,
     "end_time": "2025-06-18T06:28:26.116383",
     "exception": false,
     "start_time": "2025-06-18T06:28:26.107178",
     "status": "completed"
    },
    "tags": []
   },
   "source": [
    "**加载模型**"
   ]
  },
  {
   "cell_type": "code",
   "execution_count": 8,
   "id": "4aff78c9",
   "metadata": {
    "execution": {
     "iopub.execute_input": "2025-06-18T06:28:26.136844Z",
     "iopub.status.busy": "2025-06-18T06:28:26.136452Z",
     "iopub.status.idle": "2025-06-18T06:28:26.350226Z",
     "shell.execute_reply": "2025-06-18T06:28:26.349274Z"
    },
    "papermill": {
     "duration": 0.226521,
     "end_time": "2025-06-18T06:28:26.352169",
     "exception": false,
     "start_time": "2025-06-18T06:28:26.125648",
     "status": "completed"
    },
    "tags": []
   },
   "outputs": [],
   "source": [
    "import pandas as pd\n",
    "import re\n",
    "import tensorflow as tf\n",
    "from tensorflow.keras.models import load_model\n",
    "from tensorflow.keras.preprocessing.text import Tokenizer\n",
    "from tensorflow.keras.preprocessing.sequence import pad_sequences\n",
    "\n",
    "# 加载你训练时用的原始短信数据\n",
    "df = pd.read_csv(\"/kaggle/input/sms-spam-collection-dataset/spam.csv\", encoding='latin-1')[['v1', 'v2']]\n",
    "df.columns = ['label', 'message']\n",
    "df['message'] = df['message'].apply(lambda x: re.sub(r'[^a-zA-Z]', ' ', x.lower()))\n",
    "\n",
    "# 重新训练 Tokenizer\n",
    "tokenizer = Tokenizer(num_words=5000, oov_token=\"<OOV>\")\n",
    "tokenizer.fit_on_texts(df['message'])\n",
    "\n",
    "# 加载你已经保存的模型\n",
    "model = load_model(\"/kaggle/working/spam_classifier.h5\")"
   ]
  },
  {
   "cell_type": "markdown",
   "id": "8118131f",
   "metadata": {
    "papermill": {
     "duration": 0.009252,
     "end_time": "2025-06-18T06:28:26.371065",
     "exception": false,
     "start_time": "2025-06-18T06:28:26.361813",
     "status": "completed"
    },
    "tags": []
   },
   "source": [
    "**对新短信进行预测**\n",
    "\n",
    "**Ham Examples**\n",
    "Hey, are we still meeting for lunch today?\n",
    "Don’t forget to bring your notebook to class.\n",
    "Happy Birthday! Hope you have a great day.\n",
    "Can you call me back when you’re free?\n",
    "I’m stuck in traffic, will be 10 mins late.\n",
    "Meeting is at 3PM in Room 402.\n",
    "Let’s go watch that movie tonight!\n",
    "Thanks again for your help yesterday.\n",
    "Your appointment is confirmed for tomorrow at 11am.\n",
    "I'll pick up the groceries on my way home.\n",
    "    \n",
    "**Spam Examples**\n",
    "Congratulations! You've won a £000 Walmart gift card. Click here to claim: # http://bit.ly/win1000\n",
    "URGENT! Your mobile number has won £5000. Text WIN to 80082 now!\n",
    "You’ve been selected for a free cruise to the Bahamas! Call now!\n",
    "This is your final chance to extend your car warranty. Act now!\n",
    "Get a loan approved in 5 minutes with no credit check!\n",
    "Free entry in 2 a weekly competition. Text WIN to 80086 now!\n",
    "You've been pre-approved for a credit card with 0% interest.\n",
    "Win a brand new iPhone 15 Pro! Just fill out this short survey.\n",
    "Earn £500 daily working from home. No experience required.\n",
    "Your PayPal account is suspended. Verify now: fakepaypal.com"
   ]
  },
  {
   "cell_type": "markdown",
   "id": "79e90971",
   "metadata": {
    "papermill": {
     "duration": 0.009344,
     "end_time": "2025-06-18T06:28:26.389984",
     "exception": false,
     "start_time": "2025-06-18T06:28:26.380640",
     "status": "completed"
    },
    "tags": []
   },
   "source": []
  },
  {
   "cell_type": "code",
   "execution_count": 9,
   "id": "90efed81",
   "metadata": {
    "execution": {
     "iopub.execute_input": "2025-06-18T06:28:26.410411Z",
     "iopub.status.busy": "2025-06-18T06:28:26.410021Z",
     "iopub.status.idle": "2025-06-18T06:28:26.571446Z",
     "shell.execute_reply": "2025-06-18T06:28:26.570355Z"
    },
    "papermill": {
     "duration": 0.173684,
     "end_time": "2025-06-18T06:28:26.572938",
     "exception": false,
     "start_time": "2025-06-18T06:28:26.399254",
     "status": "completed"
    },
    "tags": []
   },
   "outputs": [
    {
     "name": "stdout",
     "output_type": "stream",
     "text": [
      "\u001b[1m1/1\u001b[0m \u001b[32m━━━━━━━━━━━━━━━━━━━━\u001b[0m\u001b[37m\u001b[0m \u001b[1m0s\u001b[0m 95ms/step\n",
      "Spam\n",
      "Confidence: 0.8653\n"
     ]
    }
   ],
   "source": [
    "# 输入新短信进行预测\n",
    "new_text = [\"You have been selected for a cash prize. Click to claim.\"]\n",
    "new_text_cleaned = [re.sub(r'[^a-zA-Z]', ' ', text.lower()) for text in new_text]\n",
    "new_seq = tokenizer.texts_to_sequences(new_text_cleaned)\n",
    "new_padded = pad_sequences(new_seq, padding='post', maxlen=100)\n",
    "\n",
    "pred = model.predict(new_padded)\n",
    "\n",
    "print(\"Spam\" if pred[0][0] > 0.5 else \"Ham\")\n",
    "print(\"Confidence:\", round(pred[0][0], 4))"
   ]
  }
 ],
 "metadata": {
  "kaggle": {
   "accelerator": "none",
   "dataSources": [
    {
     "datasetId": 483,
     "sourceId": 982,
     "sourceType": "datasetVersion"
    }
   ],
   "dockerImageVersionId": 31040,
   "isGpuEnabled": false,
   "isInternetEnabled": false,
   "language": "python",
   "sourceType": "notebook"
  },
  "kernelspec": {
   "display_name": "Python 3",
   "language": "python",
   "name": "python3"
  },
  "language_info": {
   "codemirror_mode": {
    "name": "ipython",
    "version": 3
   },
   "file_extension": ".py",
   "mimetype": "text/x-python",
   "name": "python",
   "nbconvert_exporter": "python",
   "pygments_lexer": "ipython3",
   "version": "3.11.11"
  },
  "papermill": {
   "default_parameters": {},
   "duration": 38.129309,
   "end_time": "2025-06-18T06:28:29.290660",
   "environment_variables": {},
   "exception": null,
   "input_path": "__notebook__.ipynb",
   "output_path": "__notebook__.ipynb",
   "parameters": {},
   "start_time": "2025-06-18T06:27:51.161351",
   "version": "2.6.0"
  }
 },
 "nbformat": 4,
 "nbformat_minor": 5
}
