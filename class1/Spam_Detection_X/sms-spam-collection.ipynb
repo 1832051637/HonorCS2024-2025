{
 "cells": [
  {
   "cell_type": "markdown",
   "id": "e0fb863a",
   "metadata": {
    "papermill": {
     "duration": 0.003638,
     "end_time": "2025-06-09T00:15:14.580097",
     "exception": false,
     "start_time": "2025-06-09T00:15:14.576459",
     "status": "completed"
    },
    "tags": []
   },
   "source": [
    "**项目简介**\n",
    "\n",
    "本项目基于 TensorFlow 框架，在 Kaggle 平台实现一个简单的邮件分类器，用于判断短信是否为垃圾邮件（Spam）或正常邮件（Ham）。"
   ]
  },
  {
   "cell_type": "code",
   "execution_count": 1,
   "id": "ca470bcb",
   "metadata": {
    "execution": {
     "iopub.execute_input": "2025-06-09T00:15:14.588180Z",
     "iopub.status.busy": "2025-06-09T00:15:14.587776Z",
     "iopub.status.idle": "2025-06-09T00:15:36.927885Z",
     "shell.execute_reply": "2025-06-09T00:15:36.926881Z"
    },
    "papermill": {
     "duration": 22.346364,
     "end_time": "2025-06-09T00:15:36.929746",
     "exception": false,
     "start_time": "2025-06-09T00:15:14.583382",
     "status": "completed"
    },
    "tags": []
   },
   "outputs": [
    {
     "name": "stderr",
     "output_type": "stream",
     "text": [
      "2025-06-09 00:15:18.768906: E external/local_xla/xla/stream_executor/cuda/cuda_fft.cc:477] Unable to register cuFFT factory: Attempting to register factory for plugin cuFFT when one has already been registered\n",
      "WARNING: All log messages before absl::InitializeLog() is called are written to STDERR\n",
      "E0000 00:00:1749428119.025323      13 cuda_dnn.cc:8310] Unable to register cuDNN factory: Attempting to register factory for plugin cuDNN when one has already been registered\n",
      "E0000 00:00:1749428119.104009      13 cuda_blas.cc:1418] Unable to register cuBLAS factory: Attempting to register factory for plugin cuBLAS when one has already been registered\n"
     ]
    }
   ],
   "source": [
    "# 导入必要的库\n",
    "import pandas as pd\n",
    "import numpy as np\n",
    "import tensorflow as tf\n",
    "import matplotlib.pyplot as plt\n",
    "import re\n",
    "\n",
    "# sklearn 用于划分训练集和测试集\n",
    "from sklearn.model_selection import train_test_split\n",
    "\n",
    "# Tokenizer 用于将文本分词，pad_sequences 用于统一长度\n",
    "from tensorflow.keras.preprocessing.text import Tokenizer\n",
    "from tensorflow.keras.preprocessing.sequence import pad_sequences"
   ]
  },
  {
   "cell_type": "markdown",
   "id": "16bb3765",
   "metadata": {
    "papermill": {
     "duration": 0.002741,
     "end_time": "2025-06-09T00:15:36.935731",
     "exception": false,
     "start_time": "2025-06-09T00:15:36.932990",
     "status": "completed"
    },
    "tags": []
   },
   "source": [
    "**读取数据**\n",
    "\n",
    "加载数据：读取 spam.csv 并保留 'v1'（标签）和 'v2'（文本）。\n",
    "\n",
    "标签处理：将 ham 映射为 0，spam 映射为 1。"
   ]
  },
  {
   "cell_type": "code",
   "execution_count": 2,
   "id": "5727444e",
   "metadata": {
    "execution": {
     "iopub.execute_input": "2025-06-09T00:15:36.942995Z",
     "iopub.status.busy": "2025-06-09T00:15:36.942409Z",
     "iopub.status.idle": "2025-06-09T00:15:36.993612Z",
     "shell.execute_reply": "2025-06-09T00:15:36.992217Z"
    },
    "papermill": {
     "duration": 0.056848,
     "end_time": "2025-06-09T00:15:36.995450",
     "exception": false,
     "start_time": "2025-06-09T00:15:36.938602",
     "status": "completed"
    },
    "tags": []
   },
   "outputs": [],
   "source": [
    "# 从 Kaggle 数据集中读取 spam.csv 文件（路径可能根据数据集不同略有调整）\n",
    "df = pd.read_csv(\"/kaggle/input/sms-spam-collection-dataset/spam.csv\", encoding='latin-1')[['v1', 'v2']]\n",
    "df.columns = ['label', 'message']  # 重命名列\n",
    "\n",
    "# 标签转换：ham -> 0, spam -> 1\n",
    "df['label'] = df['label'].map({'ham': 0, 'spam': 1})"
   ]
  },
  {
   "cell_type": "markdown",
   "id": "6e87fe16",
   "metadata": {
    "papermill": {
     "duration": 0.002683,
     "end_time": "2025-06-09T00:15:37.001294",
     "exception": false,
     "start_time": "2025-06-09T00:15:36.998611",
     "status": "completed"
    },
    "tags": []
   },
   "source": [
    "**预处理文本**\n",
    "\n",
    "文本清洗：小写化，移除非字母字符。\n",
    "\n",
    "分词编码：使用 Tokenizer 将文本转化为数字序列。\n",
    "\n",
    "序列填充：将所有序列填充或截断为等长（如100）。\n",
    "\n",
    "划分训练集和测试集：使用 sklearn 的 train_test_split。"
   ]
  },
  {
   "cell_type": "code",
   "execution_count": 3,
   "id": "65bf3add",
   "metadata": {
    "execution": {
     "iopub.execute_input": "2025-06-09T00:15:37.008785Z",
     "iopub.status.busy": "2025-06-09T00:15:37.008376Z",
     "iopub.status.idle": "2025-06-09T00:15:37.237874Z",
     "shell.execute_reply": "2025-06-09T00:15:37.236799Z"
    },
    "papermill": {
     "duration": 0.235503,
     "end_time": "2025-06-09T00:15:37.239772",
     "exception": false,
     "start_time": "2025-06-09T00:15:37.004269",
     "status": "completed"
    },
    "tags": []
   },
   "outputs": [],
   "source": [
    "# 文本清洗：小写化、去除非字母字符\n",
    "df['message'] = df['message'].apply(lambda x: re.sub(r'[^a-zA-Z]', ' ', x.lower()))\n",
    "\n",
    "# 创建分词器，最多保留5000个词，未知词用<OOV>表示\n",
    "tokenizer = Tokenizer(num_words=5000, oov_token=\"<OOV>\")\n",
    "tokenizer.fit_on_texts(df['message'])\n",
    "\n",
    "# 将文本转为整数序列\n",
    "sequences = tokenizer.texts_to_sequences(df['message'])\n",
    "\n",
    "# 将所有序列统一为100词长度（多余截断，不足补零）\n",
    "padded = pad_sequences(sequences, padding='post', maxlen=100)\n",
    "\n",
    "# 标签转为 NumPy 数组\n",
    "X = padded\n",
    "y = df['label'].values\n",
    "\n",
    "# 划分训练集和测试集\n",
    "X_train, X_test, y_train, y_test = train_test_split(X, y, test_size=0.2, random_state=42)"
   ]
  },
  {
   "cell_type": "markdown",
   "id": "89b7c9f7",
   "metadata": {
    "papermill": {
     "duration": 0.00269,
     "end_time": "2025-06-09T00:15:37.245522",
     "exception": false,
     "start_time": "2025-06-09T00:15:37.242832",
     "status": "completed"
    },
    "tags": []
   },
   "source": [
    "**构建模型**\n",
    "\n",
    "模型结构：\n",
    "Embedding 层：将词汇表映射为稠密向量\n",
    "\n",
    "GlobalAveragePooling1D：取平均值\n",
    "\n",
    "Dense 层：中间隐藏层（24个神经元）\n",
    "\n",
    "Dense 层：输出层（1个神经元，Sigmoid激活）\n",
    "\n",
    "编译模型：损失函数为 binary_crossentropy，优化器使用 adam。"
   ]
  },
  {
   "cell_type": "code",
   "execution_count": 4,
   "id": "bf5135a5",
   "metadata": {
    "execution": {
     "iopub.execute_input": "2025-06-09T00:15:37.252671Z",
     "iopub.status.busy": "2025-06-09T00:15:37.252316Z",
     "iopub.status.idle": "2025-06-09T00:15:37.378106Z",
     "shell.execute_reply": "2025-06-09T00:15:37.376963Z"
    },
    "papermill": {
     "duration": 0.131694,
     "end_time": "2025-06-09T00:15:37.380110",
     "exception": false,
     "start_time": "2025-06-09T00:15:37.248416",
     "status": "completed"
    },
    "tags": []
   },
   "outputs": [
    {
     "name": "stderr",
     "output_type": "stream",
     "text": [
      "2025-06-09 00:15:37.263545: E external/local_xla/xla/stream_executor/cuda/cuda_driver.cc:152] failed call to cuInit: INTERNAL: CUDA error: Failed call to cuInit: UNKNOWN ERROR (303)\n"
     ]
    },
    {
     "data": {
      "text/html": [
       "<pre style=\"white-space:pre;overflow-x:auto;line-height:normal;font-family:Menlo,'DejaVu Sans Mono',consolas,'Courier New',monospace\"><span style=\"font-weight: bold\">Model: \"sequential\"</span>\n",
       "</pre>\n"
      ],
      "text/plain": [
       "\u001b[1mModel: \"sequential\"\u001b[0m\n"
      ]
     },
     "metadata": {},
     "output_type": "display_data"
    },
    {
     "data": {
      "text/html": [
       "<pre style=\"white-space:pre;overflow-x:auto;line-height:normal;font-family:Menlo,'DejaVu Sans Mono',consolas,'Courier New',monospace\">┏━━━━━━━━━━━━━━━━━━━━━━━━━━━━━━━━━━━━━━┳━━━━━━━━━━━━━━━━━━━━━━━━━━━━━┳━━━━━━━━━━━━━━━━━┓\n",
       "┃<span style=\"font-weight: bold\"> Layer (type)                         </span>┃<span style=\"font-weight: bold\"> Output Shape                </span>┃<span style=\"font-weight: bold\">         Param # </span>┃\n",
       "┡━━━━━━━━━━━━━━━━━━━━━━━━━━━━━━━━━━━━━━╇━━━━━━━━━━━━━━━━━━━━━━━━━━━━━╇━━━━━━━━━━━━━━━━━┩\n",
       "│ embedding (<span style=\"color: #0087ff; text-decoration-color: #0087ff\">Embedding</span>)                │ (<span style=\"color: #00d7ff; text-decoration-color: #00d7ff\">None</span>, <span style=\"color: #00af00; text-decoration-color: #00af00\">100</span>, <span style=\"color: #00af00; text-decoration-color: #00af00\">16</span>)             │          <span style=\"color: #00af00; text-decoration-color: #00af00\">80,000</span> │\n",
       "├──────────────────────────────────────┼─────────────────────────────┼─────────────────┤\n",
       "│ global_average_pooling1d             │ (<span style=\"color: #00d7ff; text-decoration-color: #00d7ff\">None</span>, <span style=\"color: #00af00; text-decoration-color: #00af00\">16</span>)                  │               <span style=\"color: #00af00; text-decoration-color: #00af00\">0</span> │\n",
       "│ (<span style=\"color: #0087ff; text-decoration-color: #0087ff\">GlobalAveragePooling1D</span>)             │                             │                 │\n",
       "├──────────────────────────────────────┼─────────────────────────────┼─────────────────┤\n",
       "│ dense (<span style=\"color: #0087ff; text-decoration-color: #0087ff\">Dense</span>)                        │ (<span style=\"color: #00d7ff; text-decoration-color: #00d7ff\">None</span>, <span style=\"color: #00af00; text-decoration-color: #00af00\">24</span>)                  │             <span style=\"color: #00af00; text-decoration-color: #00af00\">408</span> │\n",
       "├──────────────────────────────────────┼─────────────────────────────┼─────────────────┤\n",
       "│ dense_1 (<span style=\"color: #0087ff; text-decoration-color: #0087ff\">Dense</span>)                      │ (<span style=\"color: #00d7ff; text-decoration-color: #00d7ff\">None</span>, <span style=\"color: #00af00; text-decoration-color: #00af00\">1</span>)                   │              <span style=\"color: #00af00; text-decoration-color: #00af00\">25</span> │\n",
       "└──────────────────────────────────────┴─────────────────────────────┴─────────────────┘\n",
       "</pre>\n"
      ],
      "text/plain": [
       "┏━━━━━━━━━━━━━━━━━━━━━━━━━━━━━━━━━━━━━━┳━━━━━━━━━━━━━━━━━━━━━━━━━━━━━┳━━━━━━━━━━━━━━━━━┓\n",
       "┃\u001b[1m \u001b[0m\u001b[1mLayer (type)                        \u001b[0m\u001b[1m \u001b[0m┃\u001b[1m \u001b[0m\u001b[1mOutput Shape               \u001b[0m\u001b[1m \u001b[0m┃\u001b[1m \u001b[0m\u001b[1m        Param #\u001b[0m\u001b[1m \u001b[0m┃\n",
       "┡━━━━━━━━━━━━━━━━━━━━━━━━━━━━━━━━━━━━━━╇━━━━━━━━━━━━━━━━━━━━━━━━━━━━━╇━━━━━━━━━━━━━━━━━┩\n",
       "│ embedding (\u001b[38;5;33mEmbedding\u001b[0m)                │ (\u001b[38;5;45mNone\u001b[0m, \u001b[38;5;34m100\u001b[0m, \u001b[38;5;34m16\u001b[0m)             │          \u001b[38;5;34m80,000\u001b[0m │\n",
       "├──────────────────────────────────────┼─────────────────────────────┼─────────────────┤\n",
       "│ global_average_pooling1d             │ (\u001b[38;5;45mNone\u001b[0m, \u001b[38;5;34m16\u001b[0m)                  │               \u001b[38;5;34m0\u001b[0m │\n",
       "│ (\u001b[38;5;33mGlobalAveragePooling1D\u001b[0m)             │                             │                 │\n",
       "├──────────────────────────────────────┼─────────────────────────────┼─────────────────┤\n",
       "│ dense (\u001b[38;5;33mDense\u001b[0m)                        │ (\u001b[38;5;45mNone\u001b[0m, \u001b[38;5;34m24\u001b[0m)                  │             \u001b[38;5;34m408\u001b[0m │\n",
       "├──────────────────────────────────────┼─────────────────────────────┼─────────────────┤\n",
       "│ dense_1 (\u001b[38;5;33mDense\u001b[0m)                      │ (\u001b[38;5;45mNone\u001b[0m, \u001b[38;5;34m1\u001b[0m)                   │              \u001b[38;5;34m25\u001b[0m │\n",
       "└──────────────────────────────────────┴─────────────────────────────┴─────────────────┘\n"
      ]
     },
     "metadata": {},
     "output_type": "display_data"
    },
    {
     "data": {
      "text/html": [
       "<pre style=\"white-space:pre;overflow-x:auto;line-height:normal;font-family:Menlo,'DejaVu Sans Mono',consolas,'Courier New',monospace\"><span style=\"font-weight: bold\"> Total params: </span><span style=\"color: #00af00; text-decoration-color: #00af00\">80,433</span> (314.19 KB)\n",
       "</pre>\n"
      ],
      "text/plain": [
       "\u001b[1m Total params: \u001b[0m\u001b[38;5;34m80,433\u001b[0m (314.19 KB)\n"
      ]
     },
     "metadata": {},
     "output_type": "display_data"
    },
    {
     "data": {
      "text/html": [
       "<pre style=\"white-space:pre;overflow-x:auto;line-height:normal;font-family:Menlo,'DejaVu Sans Mono',consolas,'Courier New',monospace\"><span style=\"font-weight: bold\"> Trainable params: </span><span style=\"color: #00af00; text-decoration-color: #00af00\">80,433</span> (314.19 KB)\n",
       "</pre>\n"
      ],
      "text/plain": [
       "\u001b[1m Trainable params: \u001b[0m\u001b[38;5;34m80,433\u001b[0m (314.19 KB)\n"
      ]
     },
     "metadata": {},
     "output_type": "display_data"
    },
    {
     "data": {
      "text/html": [
       "<pre style=\"white-space:pre;overflow-x:auto;line-height:normal;font-family:Menlo,'DejaVu Sans Mono',consolas,'Courier New',monospace\"><span style=\"font-weight: bold\"> Non-trainable params: </span><span style=\"color: #00af00; text-decoration-color: #00af00\">0</span> (0.00 B)\n",
       "</pre>\n"
      ],
      "text/plain": [
       "\u001b[1m Non-trainable params: \u001b[0m\u001b[38;5;34m0\u001b[0m (0.00 B)\n"
      ]
     },
     "metadata": {},
     "output_type": "display_data"
    }
   ],
   "source": [
    "model = tf.keras.Sequential([\n",
    "    tf.keras.layers.Embedding(5000, 16),  # 词嵌入层：将词ID转为16维向量\n",
    "    tf.keras.layers.GlobalAveragePooling1D(),  # 平均池化：将词向量合并为文本向量\n",
    "    tf.keras.layers.Dense(24, activation='relu'),  # 全连接隐藏层，24个神经元\n",
    "    tf.keras.layers.Dense(1, activation='sigmoid')  # 输出层，二分类概率输出\n",
    "])\n",
    "\n",
    "# 编译模型：使用交叉熵损失函数和Adam优化器\n",
    "model.compile(loss='binary_crossentropy', optimizer='adam', metrics=['accuracy'])\n",
    "\n",
    "# 构建模型结构（让summary显示参数信息）\n",
    "model.build(input_shape=(None, 100))\n",
    "model.summary()"
   ]
  },
  {
   "cell_type": "markdown",
   "id": "1b585494",
   "metadata": {
    "papermill": {
     "duration": 0.003616,
     "end_time": "2025-06-09T00:15:37.387622",
     "exception": false,
     "start_time": "2025-06-09T00:15:37.384006",
     "status": "completed"
    },
    "tags": []
   },
   "source": [
    "**训练模型**\n",
    "\n",
    "模型训练：训练 10 个 epoch，验证集为测试集。\n",
    "\n",
    "评估模型：输出准确率与损失值。"
   ]
  },
  {
   "cell_type": "code",
   "execution_count": 5,
   "id": "94bc078d",
   "metadata": {
    "execution": {
     "iopub.execute_input": "2025-06-09T00:15:37.397817Z",
     "iopub.status.busy": "2025-06-09T00:15:37.397416Z",
     "iopub.status.idle": "2025-06-09T00:15:46.320294Z",
     "shell.execute_reply": "2025-06-09T00:15:46.319342Z"
    },
    "papermill": {
     "duration": 8.930297,
     "end_time": "2025-06-09T00:15:46.322089",
     "exception": false,
     "start_time": "2025-06-09T00:15:37.391792",
     "status": "completed"
    },
    "tags": []
   },
   "outputs": [
    {
     "name": "stdout",
     "output_type": "stream",
     "text": [
      "Epoch 1/10\n",
      "\u001b[1m140/140\u001b[0m \u001b[32m━━━━━━━━━━━━━━━━━━━━\u001b[0m\u001b[37m\u001b[0m \u001b[1m3s\u001b[0m 9ms/step - accuracy: 0.8338 - loss: 0.4240 - val_accuracy: 0.8655 - val_loss: 0.3718\n",
      "Epoch 2/10\n",
      "\u001b[1m140/140\u001b[0m \u001b[32m━━━━━━━━━━━━━━━━━━━━\u001b[0m\u001b[37m\u001b[0m \u001b[1m1s\u001b[0m 4ms/step - accuracy: 0.8724 - loss: 0.3543 - val_accuracy: 0.8655 - val_loss: 0.3605\n",
      "Epoch 3/10\n",
      "\u001b[1m140/140\u001b[0m \u001b[32m━━━━━━━━━━━━━━━━━━━━\u001b[0m\u001b[37m\u001b[0m \u001b[1m1s\u001b[0m 4ms/step - accuracy: 0.8558 - loss: 0.3669 - val_accuracy: 0.8655 - val_loss: 0.3367\n",
      "Epoch 4/10\n",
      "\u001b[1m140/140\u001b[0m \u001b[32m━━━━━━━━━━━━━━━━━━━━\u001b[0m\u001b[37m\u001b[0m \u001b[1m1s\u001b[0m 4ms/step - accuracy: 0.8570 - loss: 0.3295 - val_accuracy: 0.8655 - val_loss: 0.2734\n",
      "Epoch 5/10\n",
      "\u001b[1m140/140\u001b[0m \u001b[32m━━━━━━━━━━━━━━━━━━━━\u001b[0m\u001b[37m\u001b[0m \u001b[1m1s\u001b[0m 4ms/step - accuracy: 0.8867 - loss: 0.2277 - val_accuracy: 0.9318 - val_loss: 0.1654\n",
      "Epoch 6/10\n",
      "\u001b[1m140/140\u001b[0m \u001b[32m━━━━━━━━━━━━━━━━━━━━\u001b[0m\u001b[37m\u001b[0m \u001b[1m1s\u001b[0m 4ms/step - accuracy: 0.9623 - loss: 0.1222 - val_accuracy: 0.9677 - val_loss: 0.1085\n",
      "Epoch 7/10\n",
      "\u001b[1m140/140\u001b[0m \u001b[32m━━━━━━━━━━━━━━━━━━━━\u001b[0m\u001b[37m\u001b[0m \u001b[1m1s\u001b[0m 4ms/step - accuracy: 0.9781 - loss: 0.0813 - val_accuracy: 0.9776 - val_loss: 0.0880\n",
      "Epoch 8/10\n",
      "\u001b[1m140/140\u001b[0m \u001b[32m━━━━━━━━━━━━━━━━━━━━\u001b[0m\u001b[37m\u001b[0m \u001b[1m1s\u001b[0m 4ms/step - accuracy: 0.9834 - loss: 0.0565 - val_accuracy: 0.9785 - val_loss: 0.0772\n",
      "Epoch 9/10\n",
      "\u001b[1m140/140\u001b[0m \u001b[32m━━━━━━━━━━━━━━━━━━━━\u001b[0m\u001b[37m\u001b[0m \u001b[1m1s\u001b[0m 4ms/step - accuracy: 0.9867 - loss: 0.0462 - val_accuracy: 0.9776 - val_loss: 0.0798\n",
      "Epoch 10/10\n",
      "\u001b[1m140/140\u001b[0m \u001b[32m━━━━━━━━━━━━━━━━━━━━\u001b[0m\u001b[37m\u001b[0m \u001b[1m1s\u001b[0m 4ms/step - accuracy: 0.9886 - loss: 0.0428 - val_accuracy: 0.9767 - val_loss: 0.0818\n"
     ]
    }
   ],
   "source": [
    "history = model.fit(X_train, y_train, epochs=10, validation_data=(X_test, y_test), batch_size=32)"
   ]
  },
  {
   "cell_type": "markdown",
   "id": "2cfaa47d",
   "metadata": {
    "papermill": {
     "duration": 0.008602,
     "end_time": "2025-06-09T00:15:46.340447",
     "exception": false,
     "start_time": "2025-06-09T00:15:46.331845",
     "status": "completed"
    },
    "tags": []
   },
   "source": [
    "**可视化准确率**\n",
    "\n",
    "可视化训练过程：绘制 accuracy 随 epoch 的变化曲线。"
   ]
  },
  {
   "cell_type": "code",
   "execution_count": 6,
   "id": "508c151f",
   "metadata": {
    "execution": {
     "iopub.execute_input": "2025-06-09T00:15:46.359635Z",
     "iopub.status.busy": "2025-06-09T00:15:46.359220Z",
     "iopub.status.idle": "2025-06-09T00:15:46.650489Z",
     "shell.execute_reply": "2025-06-09T00:15:46.649524Z"
    },
    "papermill": {
     "duration": 0.303099,
     "end_time": "2025-06-09T00:15:46.652259",
     "exception": false,
     "start_time": "2025-06-09T00:15:46.349160",
     "status": "completed"
    },
    "tags": []
   },
   "outputs": [
    {
     "data": {
      "image/png": "[encoded data removed]",
      "text/plain": [
       "<Figure size 640x480 with 1 Axes>"
      ]
     },
     "metadata": {},
     "output_type": "display_data"
    }
   ],
   "source": [
    "# 绘制训练和验证准确率变化图\n",
    "plt.plot(history.history['accuracy'], label='Train Accuracy')\n",
    "plt.plot(history.history['val_accuracy'], label='Validation Accuracy')\n",
    "plt.title(\"Accuracy over Epochs\")\n",
    "plt.xlabel(\"Epoch\")\n",
    "plt.ylabel(\"Accuracy\")\n",
    "plt.legend()\n",
    "plt.show()"
   ]
  },
  {
   "cell_type": "markdown",
   "id": "39692153",
   "metadata": {
    "papermill": {
     "duration": 0.009069,
     "end_time": "2025-06-09T00:15:46.671029",
     "exception": false,
     "start_time": "2025-06-09T00:15:46.661960",
     "status": "completed"
    },
    "tags": []
   },
   "source": [
    "**保存模型**"
   ]
  },
  {
   "cell_type": "code",
   "execution_count": 7,
   "id": "9b552db3",
   "metadata": {
    "execution": {
     "iopub.execute_input": "2025-06-09T00:15:46.691871Z",
     "iopub.status.busy": "2025-06-09T00:15:46.691514Z",
     "iopub.status.idle": "2025-06-09T00:15:46.731697Z",
     "shell.execute_reply": "2025-06-09T00:15:46.730686Z"
    },
    "papermill": {
     "duration": 0.052493,
     "end_time": "2025-06-09T00:15:46.733525",
     "exception": false,
     "start_time": "2025-06-09T00:15:46.681032",
     "status": "completed"
    },
    "tags": []
   },
   "outputs": [],
   "source": [
    "model.save('/kaggle/working/spam_classifier.h5')\n",
    "# 将模型保存为 .h5 文件，方便下载和部署"
   ]
  }
 ],
 "metadata": {
  "kaggle": {
   "accelerator": "none",
   "dataSources": [
    {
     "datasetId": 483,
     "sourceId": 982,
     "sourceType": "datasetVersion"
    }
   ],
   "dockerImageVersionId": 31040,
   "isGpuEnabled": false,
   "isInternetEnabled": false,
   "language": "python",
   "sourceType": "notebook"
  },
  "kernelspec": {
   "display_name": "Python 3",
   "language": "python",
   "name": "python3"
  },
  "language_info": {
   "codemirror_mode": {
    "name": "ipython",
    "version": 3
   },
   "file_extension": ".py",
   "mimetype": "text/x-python",
   "name": "python",
   "nbconvert_exporter": "python",
   "pygments_lexer": "ipython3",
   "version": "3.11.11"
  },
  "papermill": {
   "default_parameters": {},
   "duration": 41.625279,
   "end_time": "2025-06-09T00:15:49.518956",
   "environment_variables": {},
   "exception": null,
   "input_path": "__notebook__.ipynb",
   "output_path": "__notebook__.ipynb",
   "parameters": {},
   "start_time": "2025-06-09T00:15:07.893677",
   "version": "2.6.0"
  }
 },
 "nbformat": 4,
 "nbformat_minor": 5
}
